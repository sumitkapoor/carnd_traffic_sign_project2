{
 "cells": [
  {
   "cell_type": "markdown",
   "metadata": {
    "deletable": true,
    "editable": true
   },
   "source": [
    "# Self-Driving Car Engineer Nanodegree\n",
    "\n",
    "## Deep Learning\n",
    "\n",
    "## Project: Build a Traffic Sign Recognition Classifier\n",
    "\n",
    "In this notebook, a template is provided for you to implement your functionality in stages, which is required to successfully complete this project. If additional code is required that cannot be included in the notebook, be sure that the Python code is successfully imported and included in your submission if necessary. \n",
    "\n",
    "> **Note**: Once you have completed all of the code implementations, you need to finalize your work by exporting the iPython Notebook as an HTML document. Before exporting the notebook to html, all of the code cells need to have been run so that reviewers can see the final implementation and output. You can then export the notebook by using the menu above and navigating to  \\n\",\n",
    "    \"**File -> Download as -> HTML (.html)**. Include the finished document along with this notebook as your submission. \n",
    "\n",
    "In addition to implementing code, there is a writeup to complete. The writeup should be completed in a separate file, which can be either a markdown file or a pdf document. There is a [write up template](https://github.com/udacity/CarND-Traffic-Sign-Classifier-Project/blob/master/writeup_template.md) that can be used to guide the writing process. Completing the code template and writeup template will cover all of the [rubric points](https://review.udacity.com/#!/rubrics/481/view) for this project.\n",
    "\n",
    "The [rubric](https://review.udacity.com/#!/rubrics/481/view) contains \"Stand Out Suggestions\" for enhancing the project beyond the minimum requirements. The stand out suggestions are optional. If you decide to pursue the \"stand out suggestions\", you can include the code in this Ipython notebook and also discuss the results in the writeup file.\n",
    "\n",
    "\n",
    ">**Note:** Code and Markdown cells can be executed using the **Shift + Enter** keyboard shortcut. In addition, Markdown cells can be edited by typically double-clicking the cell to enter edit mode."
   ]
  },
  {
   "cell_type": "markdown",
   "metadata": {
    "deletable": true,
    "editable": true
   },
   "source": [
    "---\n",
    "## Step 0: Load The Data"
   ]
  },
  {
   "cell_type": "code",
   "execution_count": 1,
   "metadata": {
    "collapsed": false,
    "deletable": true,
    "editable": true
   },
   "outputs": [
    {
     "name": "stdout",
     "output_type": "stream",
     "text": [
      "Training  34799\n",
      "Validation  4410\n",
      "Test  12630\n"
     ]
    }
   ],
   "source": [
    "# Load pickled data\n",
    "import pickle\n",
    "import matplotlib.pyplot as plt\n",
    "import matplotlib.image as mpimg\n",
    "import cv2\n",
    "import os\n",
    "\n",
    "training_file = \"./train.p\"\n",
    "validation_file = \"./valid.p\"\n",
    "testing_file = \"./test.p\"\n",
    "signnames_file = \"./signnames.csv\"\n",
    "\n",
    "with open(training_file, mode='rb') as f:\n",
    "    train = pickle.load(f)\n",
    "with open(validation_file, mode='rb') as f:\n",
    "    valid = pickle.load(f)\n",
    "with open(testing_file, mode='rb') as f:\n",
    "    test = pickle.load(f)\n",
    "    \n",
    "with open(signnames_file) as f:\n",
    "    f.readline() # Strip the header\n",
    "    tuples = [line.strip().split(',') for line in f]\n",
    "    sign_names = {int(t[0]): t[1] for t in tuples}\n",
    "    \n",
    "X_train, y_train = train['features'], train['labels']\n",
    "X_valid, y_valid = valid['features'], valid['labels']\n",
    "X_test, y_test = test['features'], test['labels']\n",
    "\n",
    "assert(len(X_train) == len(y_train))\n",
    "assert(len(X_valid) == len(y_valid))\n",
    "assert(len(X_test) == len(y_test))\n",
    "\n",
    "X_original_train = X_train\n",
    "X_original_valid = X_valid\n",
    "X_original_test = X_test\n",
    "\n",
    "print(\"Training  %d\" % (len(X_train)))\n",
    "print(\"Validation  %d\" % (len(X_valid)))\n",
    "print(\"Test  %d\" % (len(X_test)))"
   ]
  },
  {
   "cell_type": "markdown",
   "metadata": {
    "deletable": true,
    "editable": true
   },
   "source": [
    "---\n",
    "\n",
    "## Step 1: Dataset Summary & Exploration\n",
    "\n",
    "The pickled data is a dictionary with 4 key/value pairs:\n",
    "\n",
    "- `'features'` is a 4D array containing raw pixel data of the traffic sign images, (num examples, width, height, channels).\n",
    "- `'labels'` is a 1D array containing the label/class id of the traffic sign. The file `signnames.csv` contains id -> name mappings for each id.\n",
    "- `'sizes'` is a list containing tuples, (width, height) representing the original width and height the image.\n",
    "- `'coords'` is a list containing tuples, (x1, y1, x2, y2) representing coordinates of a bounding box around the sign in the image. **THESE COORDINATES ASSUME THE ORIGINAL IMAGE. THE PICKLED DATA CONTAINS RESIZED VERSIONS (32 by 32) OF THESE IMAGES**\n",
    "\n",
    "Complete the basic data summary below. Use python, numpy and/or pandas methods to calculate the data summary rather than hard coding the results. For example, the [pandas shape method](http://pandas.pydata.org/pandas-docs/stable/generated/pandas.DataFrame.shape.html) might be useful for calculating some of the summary results. "
   ]
  },
  {
   "cell_type": "markdown",
   "metadata": {
    "deletable": true,
    "editable": true
   },
   "source": [
    "### Provide a Basic Summary of the Data Set Using Python, Numpy and/or Pandas"
   ]
  },
  {
   "cell_type": "code",
   "execution_count": 2,
   "metadata": {
    "collapsed": false,
    "deletable": true,
    "editable": true
   },
   "outputs": [
    {
     "name": "stdout",
     "output_type": "stream",
     "text": [
      "Number of training examples = 34799\n",
      "Number of testing examples = 12630\n",
      "Image data shape = (32, 32, 3)\n",
      "Number of classes = 43\n"
     ]
    }
   ],
   "source": [
    "### Replace each question mark with the appropriate value. \n",
    "### Use python, pandas or numpy methods rather than hard coding the results\n",
    "import numpy as np\n",
    "\n",
    "# TODO: Number of training examples\n",
    "n_train = X_train.shape[0]\n",
    "\n",
    "# TODO: Number of testing examples.\n",
    "n_test = X_test.shape[0]\n",
    "\n",
    "# TODO: What's the shape of an traffic sign image?\n",
    "image_shape = X_train[0].shape\n",
    "\n",
    "# TODO: How many unique classes/labels there are in the dataset.\n",
    "n_classes = len(np.unique(y_train))\n",
    "\n",
    "print(\"Number of training examples =\", n_train)\n",
    "print(\"Number of testing examples =\", n_test)\n",
    "print(\"Image data shape =\", image_shape)\n",
    "print(\"Number of classes =\", n_classes)"
   ]
  },
  {
   "cell_type": "markdown",
   "metadata": {
    "deletable": true,
    "editable": true
   },
   "source": [
    "### Include an exploratory visualization of the dataset"
   ]
  },
  {
   "cell_type": "markdown",
   "metadata": {
    "deletable": true,
    "editable": true
   },
   "source": [
    "Visualize the German Traffic Signs Dataset using the pickled file(s). This is open ended, suggestions include: plotting traffic sign images, plotting the count of each sign, etc.\n",
    "\n",
    "The [Matplotlib](http://matplotlib.org/) [examples](http://matplotlib.org/examples/index.html) and [gallery](http://matplotlib.org/gallery.html) pages are a great resource for doing visualizations in Python.\n",
    "\n",
    "**NOTE:** It's recommended you start with something simple first. If you wish to do more, come back to it after you've completed the rest of the sections."
   ]
  },
  {
   "cell_type": "code",
   "execution_count": 3,
   "metadata": {
    "collapsed": false,
    "deletable": true,
    "editable": true
   },
   "outputs": [
    {
     "name": "stdout",
     "output_type": "stream",
     "text": [
      "(5) Speed limit (80km/h)\n"
     ]
    },
    {
     "data": {
      "image/png": "[encoded data removed]",
      "text/plain": [
       "<matplotlib.figure.Figure at 0x102b5d0f0>"
      ]
     },
     "metadata": {},
     "output_type": "display_data"
    },
    {
     "data": {
      "image/png": "[encoded data removed]",
      "text/plain": [
       "<matplotlib.figure.Figure at 0x102b47da0>"
      ]
     },
     "metadata": {},
     "output_type": "display_data"
    },
    {
     "name": "stdout",
     "output_type": "stream",
     "text": [
      "(8) Speed limit (120km/h)\n"
     ]
    },
    {
     "data": {
      "image/png": "[encoded data removed]",
      "text/plain": [
       "<matplotlib.figure.Figure at 0x126cc9080>"
      ]
     },
     "metadata": {},
     "output_type": "display_data"
    },
    {
     "data": {
      "image/png": "[encoded data removed]",
      "text/plain": [
       "<matplotlib.figure.Figure at 0x126dc4978>"
      ]
     },
     "metadata": {},
     "output_type": "display_data"
    },
    {
     "name": "stdout",
     "output_type": "stream",
     "text": [
      "(11) Right-of-way at the next intersection\n"
     ]
    },
    {
     "data": {
      "image/png": "[encoded data removed]",
      "text/plain": [
       "<matplotlib.figure.Figure at 0x126d944a8>"
      ]
     },
     "metadata": {},
     "output_type": "display_data"
    },
    {
     "data": {
      "image/png": "[encoded data removed]",
      "text/plain": [
       "<matplotlib.figure.Figure at 0x126e77278>"
      ]
     },
     "metadata": {},
     "output_type": "display_data"
    },
    {
     "name": "stdout",
     "output_type": "stream",
     "text": [
      "(12) Priority road\n"
     ]
    },
    {
     "data": {
      "image/png": "[encoded data removed]",
      "text/plain": [
       "<matplotlib.figure.Figure at 0x126e91160>"
      ]
     },
     "metadata": {},
     "output_type": "display_data"
    },
    {
     "data": {
      "image/png": "[encoded data removed]",
      "text/plain": [
       "<matplotlib.figure.Figure at 0x126f2ac18>"
      ]
     },
     "metadata": {},
     "output_type": "display_data"
    },
    {
     "name": "stdout",
     "output_type": "stream",
     "text": [
      "(33) Turn right ahead\n"
     ]
    },
    {
     "data": {
      "image/png": "[encoded data removed]",
      "text/plain": [
       "<matplotlib.figure.Figure at 0x124c9b4e0>"
      ]
     },
     "metadata": {},
     "output_type": "display_data"
    },
    {
     "data": {
      "image/png": "[encoded data removed]",
      "text/plain": [
       "<matplotlib.figure.Figure at 0x126fd7ba8>"
      ]
     },
     "metadata": {},
     "output_type": "display_data"
    },
    {
     "name": "stdout",
     "output_type": "stream",
     "text": [
      "(38) Keep right\n"
     ]
    },
    {
     "data": {
      "image/png": "[encoded data removed]",
      "text/plain": [
       "<matplotlib.figure.Figure at 0x126deb6a0>"
      ]
     },
     "metadata": {},
     "output_type": "display_data"
    },
    {
     "data": {
      "image/png": "[encoded data removed]",
      "text/plain": [
       "<matplotlib.figure.Figure at 0x1270819e8>"
      ]
     },
     "metadata": {},
     "output_type": "display_data"
    },
    {
     "name": "stdout",
     "output_type": "stream",
     "text": [
      "(9) No passing\n"
     ]
    },
    {
     "data": {
      "image/png": "[encoded data removed]",
      "text/plain": [
       "<matplotlib.figure.Figure at 0x1270d5e48>"
      ]
     },
     "metadata": {},
     "output_type": "display_data"
    },
    {
     "data": {
      "image/png": "[encoded data removed]",
      "text/plain": [
       "<matplotlib.figure.Figure at 0x1270ab978>"
      ]
     },
     "metadata": {},
     "output_type": "display_data"
    },
    {
     "name": "stdout",
     "output_type": "stream",
     "text": [
      "(10) No passing for vehicles over 3.5 metric tons\n"
     ]
    },
    {
     "data": {
      "image/png": "[encoded data removed]",
      "text/plain": [
       "<matplotlib.figure.Figure at 0x1270ce358>"
      ]
     },
     "metadata": {},
     "output_type": "display_data"
    },
    {
     "data": {
      "image/png": "[encoded data removed]",
      "text/plain": [
       "<matplotlib.figure.Figure at 0x126f01e80>"
      ]
     },
     "metadata": {},
     "output_type": "display_data"
    },
    {
     "name": "stdout",
     "output_type": "stream",
     "text": [
      "(7) Speed limit (100km/h)\n"
     ]
    },
    {
     "data": {
      "image/png": "[encoded data removed]",
      "text/plain": [
       "<matplotlib.figure.Figure at 0x127022358>"
      ]
     },
     "metadata": {},
     "output_type": "display_data"
    },
    {
     "data": {
      "image/png": "[encoded data removed]",
      "text/plain": [
       "<matplotlib.figure.Figure at 0x126ffad68>"
      ]
     },
     "metadata": {},
     "output_type": "display_data"
    },
    {
     "name": "stdout",
     "output_type": "stream",
     "text": [
      "(9) No passing\n"
     ]
    },
    {
     "data": {
      "image/png": "[encoded data removed]",
      "text/plain": [
       "<matplotlib.figure.Figure at 0x1270db940>"
      ]
     },
     "metadata": {},
     "output_type": "display_data"
    },
    {
     "data": {
      "image/png": "[encoded data removed]",
      "text/plain": [
       "<matplotlib.figure.Figure at 0x126fe31d0>"
      ]
     },
     "metadata": {},
     "output_type": "display_data"
    }
   ],
   "source": [
    "### Data exploration visualization code goes here.\n",
    "### Feel free to use as many code cells as needed.\n",
    "import random\n",
    "import matplotlib.pyplot as plt\n",
    "# Visualizations will be shown in the notebook.\n",
    "%matplotlib inline\n",
    "\n",
    "\n",
    "for index in random.sample(range(len(X_train)), 10):\n",
    "    image = X_original_train[index].squeeze()\n",
    "    plt.figure(figsize=(1,1))\n",
    "    plt.imshow(image)\n",
    "    plt.figure(figsize=(1,1))\n",
    "    plt.imshow(image, cmap=\"gray\")\n",
    "    print(\"(%s) %s\" % (y_train[index], sign_names[y_train[index]]))\n",
    "    plt.show()"
   ]
  },
  {
   "cell_type": "markdown",
   "metadata": {
    "deletable": true,
    "editable": true
   },
   "source": [
    "----\n",
    "\n",
    "## Step 2: Design and Test a Model Architecture\n",
    "\n",
    "Design and implement a deep learning model that learns to recognize traffic signs. Train and test your model on the [German Traffic Sign Dataset](http://benchmark.ini.rub.de/?section=gtsrb&subsection=dataset).\n",
    "\n",
    "The LeNet-5 implementation shown in the [classroom](https://classroom.udacity.com/nanodegrees/nd013/parts/fbf77062-5703-404e-b60c-95b78b2f3f9e/modules/6df7ae49-c61c-4bb2-a23e-6527e69209ec/lessons/601ae704-1035-4287-8b11-e2c2716217ad/concepts/d4aca031-508f-4e0b-b493-e7b706120f81) at the end of the CNN lesson is a solid starting point. You'll have to change the number of classes and possibly the preprocessing, but aside from that it's plug and play! \n",
    "\n",
    "With the LeNet-5 solution from the lecture, you should expect a validation set accuracy of about 0.89. To meet specifications, the validation set accuracy will need to be at least 0.93. It is possible to get an even higher accuracy, but 0.93 is the minimum for a successful project submission. \n",
    "\n",
    "There are various aspects to consider when thinking about this problem:\n",
    "\n",
    "- Neural network architecture (is the network over or underfitting?)\n",
    "- Play around preprocessing techniques (normalization, rgb to grayscale, etc)\n",
    "- Number of examples per label (some have more than others).\n",
    "- Generate fake data.\n",
    "\n",
    "Here is an example of a [published baseline model on this problem](http://yann.lecun.com/exdb/publis/pdf/sermanet-ijcnn-11.pdf). It's not required to be familiar with the approach used in the paper but, it's good practice to try to read papers like these."
   ]
  },
  {
   "cell_type": "markdown",
   "metadata": {
    "deletable": true,
    "editable": true
   },
   "source": [
    "### Pre-process the Data Set (normalization, grayscale, etc.)"
   ]
  },
  {
   "cell_type": "markdown",
   "metadata": {
    "deletable": true,
    "editable": true
   },
   "source": [
    "Use the code cell (or multiple code cells, if necessary) to implement the first step of your project."
   ]
  },
  {
   "cell_type": "code",
   "execution_count": 4,
   "metadata": {
    "collapsed": false,
    "deletable": true,
    "editable": true
   },
   "outputs": [
    {
     "name": "stderr",
     "output_type": "stream",
     "text": [
      "Using TensorFlow backend.\n"
     ]
    }
   ],
   "source": [
    "### Preprocess the data here. Preprocessing steps could include normalization, converting to grayscale, etc.\n",
    "### Feel free to use as many code cells as needed.\n",
    "from keras.preprocessing.image import ImageDataGenerator\n",
    "\n",
    "def normalize(dataset):\n",
    "    #return (dataset - dataset.mean())/ (np.max(dataset) - np.min(dataset))\n",
    "    return (dataset - 128.0)/ (255.0)\n",
    "\n",
    "def convert_to_yuv(input_img):\n",
    "    return cv2.cvtColor(input_img, cv2.COLOR_RGB2YUV)\n",
    "\n",
    "datagen = ImageDataGenerator(\n",
    "    featurewise_center=True,\n",
    "    featurewise_std_normalization=True,\n",
    "    rotation_range=20,\n",
    "    width_shift_range=0.2,\n",
    "    height_shift_range=0.2,\n",
    "    zca_whitening=True)\n",
    "\n",
    "def generate_training_data(image, label, count):\n",
    "    datagen.fit(np.array([image]))\n",
    "    iterator = datagen.flow(np.array([image]), np.array([label]), batch_size=count)\n",
    "    random_images, labels = [], []\n",
    "    for i in range(count):\n",
    "        random_image, label = iterator.next()\n",
    "        for item in random_image:\n",
    "            random_images.append(item)\n",
    "        for item in label:\n",
    "            labels.append(item)\n",
    "\n",
    "    return random_images, labels"
   ]
  },
  {
   "cell_type": "code",
   "execution_count": 5,
   "metadata": {
    "collapsed": false,
    "deletable": true,
    "editable": true
   },
   "outputs": [
    {
     "name": "stdout",
     "output_type": "stream",
     "text": [
      "(34799, 32, 32, 3)\n",
      "(34799,)\n",
      "{0: 'Speed limit (20km/h)', 1: 'Speed limit (30km/h)', 2: 'Speed limit (50km/h)', 3: 'Speed limit (60km/h)', 4: 'Speed limit (70km/h)', 5: 'Speed limit (80km/h)', 6: 'End of speed limit (80km/h)', 7: 'Speed limit (100km/h)', 8: 'Speed limit (120km/h)', 9: 'No passing', 10: 'No passing for vehicles over 3.5 metric tons', 11: 'Right-of-way at the next intersection', 12: 'Priority road', 13: 'Yield', 14: 'Stop', 15: 'No vehicles', 16: 'Vehicles over 3.5 metric tons prohibited', 17: 'No entry', 18: 'General caution', 19: 'Dangerous curve to the left', 20: 'Dangerous curve to the right', 21: 'Double curve', 22: 'Bumpy road', 23: 'Slippery road', 24: 'Road narrows on the right', 25: 'Road work', 26: 'Traffic signals', 27: 'Pedestrians', 28: 'Children crossing', 29: 'Bicycles crossing', 30: 'Beware of ice/snow', 31: 'Wild animals crossing', 32: 'End of all speed and passing limits', 33: 'Turn right ahead', 34: 'Turn left ahead', 35: 'Ahead only', 36: 'Go straight or right', 37: 'Go straight or left', 38: 'Keep right', 39: 'Keep left', 40: 'Roundabout mandatory', 41: 'End of no passing', 42: 'End of no passing by vehicles over 3.5 metric tons'}\n"
     ]
    },
    {
     "data": {
      "image/png": "[encoded data removed]",
      "text/plain": [
       "<matplotlib.figure.Figure at 0x12fbbe710>"
      ]
     },
     "metadata": {},
     "output_type": "display_data"
    },
    {
     "data": {
      "image/png": "[encoded data removed]",
      "text/plain": [
       "<matplotlib.figure.Figure at 0x12fbbe7f0>"
      ]
     },
     "metadata": {},
     "output_type": "display_data"
    },
    {
     "data": {
      "image/png": "[encoded data removed]",
      "text/plain": [
       "<matplotlib.figure.Figure at 0x126fd7be0>"
      ]
     },
     "metadata": {},
     "output_type": "display_data"
    }
   ],
   "source": [
    "### Preprocess the data here. Preprocessing steps could include normalization, converting to grayscale, etc.\n",
    "### Feel free to use as many code cells as needed.\n",
    "import tensorflow as tf\n",
    "from sklearn.utils import shuffle\n",
    "\n",
    "X_train = X_original_train\n",
    "X_valid = X_original_valid\n",
    "X_test = X_original_test\n",
    "\n",
    "#for i in random.sample(range(len(X_train)), 100):\n",
    "#    X_gen, y_gen = generate_training_data(X_train[i], y_train[i], 10)\n",
    "#    print (\" Generated %s features for %s\" % (len(X_gen),  sign_names[y_train[i]]))\n",
    "#    X_train = np.concatenate((X_train, X_gen), axis=0)\n",
    "#    y_train = np.concatenate((y_train, y_gen), axis=0)\n",
    "    \n",
    "print (X_train.shape)\n",
    "print (y_train.shape)\n",
    "\n",
    "X_train, y_train = shuffle(X_train, y_train)\n",
    "\n",
    "# pre-process the images to convert the RGB to YUV still keeping depth as 3\n",
    "X_train = np.array([convert_to_yuv(img) for img in X_train])\n",
    "X_valid = np.array([convert_to_yuv(img) for img in X_valid])\n",
    "X_test = np.array([convert_to_yuv(img) for img in X_test])\n",
    "\n",
    "# normalize the x inputs\n",
    "X_train = normalize(X_train)\n",
    "X_valid = normalize(X_valid)\n",
    "X_test = normalize(X_test)\n",
    "\n",
    "# get the number of training feautures for each class\n",
    "print (sign_names)\n",
    "\n",
    "plt.hist(y_train, bins=n_classes, facecolor='green')\n",
    "plt.title('Number of examples of signs in the training set')\n",
    "plt.xlabel('Sign')\n",
    "plt.ylabel('Count')\n",
    "plt.plot()\n",
    "plt.show()\n",
    "\n",
    "plt.hist(y_valid, bins=n_classes, facecolor='blue')\n",
    "plt.title('Number of examples of signs in the validation set')\n",
    "plt.xlabel('Sign')\n",
    "plt.ylabel('Count')\n",
    "plt.plot()\n",
    "plt.show()\n",
    "\n",
    "\n",
    "plt.hist(y_test, bins=n_classes, facecolor='red')\n",
    "plt.title('Number of examples of signs in the test set')\n",
    "plt.xlabel('Sign')\n",
    "plt.ylabel('Count')\n",
    "plt.plot()\n",
    "plt.show()"
   ]
  },
  {
   "cell_type": "code",
   "execution_count": 6,
   "metadata": {
    "collapsed": true,
    "deletable": true,
    "editable": true
   },
   "outputs": [],
   "source": [
    "EPOCHS = 100\n",
    "BATCH_SIZE = 128\n",
    "\n",
    "# Use dropout for regularization\n",
    "dropout = 0.80\n",
    "\n",
    "keep_prob = tf.placeholder(tf.float32)\n",
    "\n",
    "x = tf.placeholder(tf.float32, (None, 32, 32, 3))\n",
    "y = tf.placeholder(tf.int32, (None))\n",
    "one_hot_y = tf.one_hot(y, n_classes)"
   ]
  },
  {
   "cell_type": "code",
   "execution_count": 7,
   "metadata": {
    "collapsed": true,
    "deletable": true,
    "editable": true
   },
   "outputs": [],
   "source": [
    "def define_lenet_weights_biases(mu, sigma):\n",
    "    weights = {}\n",
    "    biases = {}\n",
    "    strides = {}\n",
    "    pools = {}\n",
    "    # input_depth = 3, output_depth = 6\n",
    "    # input_height = 32, output_height = 28\n",
    "    # input_width = 32, output_width = 28\n",
    "    # weight_h = (32 - 5 + 1)/ 1 if stride_height = 1\n",
    "    # weight_w = (32 - 5 + 1)/ 1 if stride_width = 1\n",
    "    W_conv_01 = tf.Variable(tf.random_normal([5, 5, 3, 6], mean = mu, stddev = sigma))\n",
    "    B_conv_01 = tf.Variable(tf.random_normal([6], mean = mu))\n",
    "    stride_conv_01 = (1, 1, 1, 1)\n",
    "    weights['layer_1'] = W_conv_01\n",
    "    biases['layer_1'] = B_conv_01\n",
    "    strides['layer_1'] = stride_conv_01\n",
    "    # input_height = 28, output_height = 14\n",
    "    # input_width = 25, output_width = 14\n",
    "    # input_depth = 6, output_depth = 6\n",
    "    pooling_kernel_01 = (1, 2, 2, 1)\n",
    "    stride_pooling_02 = (1, 2, 2, 1)\n",
    "    pools['layer_1'] = pooling_kernel_01\n",
    "    # input_depth = 6, output_depth = 16\n",
    "    # input_height = 14, output_height = 10\n",
    "    # input_width = 14, output_width = 10\n",
    "    # weight_h = (14 - 5 + 1)/ 1 if stride_height = 1\n",
    "    # weight_w = (14 - 5 + 1)/ 1 if stride_width = 1\n",
    "    W_conv_02 = tf.Variable(tf.random_normal([5, 5, 6, 16], mean = mu, stddev = sigma))\n",
    "    B_conv_02 = tf.Variable(tf.random_normal([16], mean = mu))\n",
    "    stride_conv_02 = (1, 1, 1, 1)\n",
    "    weights['layer_2'] = W_conv_02\n",
    "    biases['layer_2'] = B_conv_02\n",
    "    strides['layer_2'] = stride_conv_02\n",
    "    # input_height = 10, output_height = 5\n",
    "    # input_width = 10, output_width = 5\n",
    "    # input_depth = 16, output_depth = 16\n",
    "    pooling_kernel_02 = (1, 2, 2, 1)\n",
    "    stride_pooling_03 = (1, 2, 2, 1)\n",
    "    pools['layer_2'] = pooling_kernel_02\n",
    "    # flatten input = 5 * 5 * 6 = 400\n",
    "    # flatten_output = 120\n",
    "    weigth_fully_connected_01 = tf.Variable(tf.random_normal([400, 120], mean = mu, stddev = sigma))\n",
    "    bias_fully_connected_01 = tf.Variable(tf.random_normal([120], mean = mu))\n",
    "    weights['layer_3'] = weigth_fully_connected_01\n",
    "    biases['layer_3'] = bias_fully_connected_01\n",
    "    # flatten input = 120\n",
    "    # flatten_output = 84\n",
    "    weigth_fully_connected_02 = tf.Variable(tf.random_normal([120, 84], mean = mu, stddev = sigma))\n",
    "    bias_fully_connected_02 = tf.Variable(tf.random_normal([84], mean = mu))\n",
    "    weights['layer_4'] = weigth_fully_connected_02\n",
    "    biases['layer_4'] = bias_fully_connected_02\n",
    "    # out input = 84\n",
    "    # out output = 43\n",
    "    weigth_out = tf.Variable(tf.random_normal([84, n_classes], mean = mu, stddev = sigma))\n",
    "    bias_out = tf.Variable(tf.random_normal([n_classes], mean = mu))\n",
    "    weights['out'] = weigth_out\n",
    "    biases['out'] = bias_out\n",
    "    \n",
    "    return(weights, biases, strides, pools)"
   ]
  },
  {
   "cell_type": "code",
   "execution_count": 8,
   "metadata": {
    "collapsed": true,
    "deletable": true,
    "editable": true
   },
   "outputs": [],
   "source": [
    "def define_custom_weights_biases(mu, sigma):\n",
    "    weights = {}\n",
    "    biases = {}\n",
    "    strides = {}\n",
    "    pools = {}\n",
    "    # input_depth = 3, output_depth = 6\n",
    "    # input_height = 32, output_height = 28\n",
    "    # input_width = 32, output_width = 28\n",
    "    # weight_h = (32 - 5 + 1)/ 1 if stride_height = 1\n",
    "    # weight_w = (32 - 5 + 1)/ 1 if stride_width = 1\n",
    "    W_conv_01 = tf.Variable(tf.random_normal([5, 5, 3, 32], mean = mu, stddev = sigma))\n",
    "    B_conv_01 = tf.Variable(tf.random_normal([32], mean = mu))\n",
    "    stride_conv_01 = (1, 1, 1, 1)\n",
    "    weights['layer_1'] = W_conv_01\n",
    "    biases['layer_1'] = B_conv_01\n",
    "    strides['layer_1'] = stride_conv_01\n",
    "    # input_height = 28, output_height = 14\n",
    "    # input_width = 25, output_width = 14\n",
    "    # input_depth = 32, output_depth = 32\n",
    "    pooling_kernel_01 = (1, 2, 2, 1)\n",
    "    stride_pooling_02 = (1, 2, 2, 1)\n",
    "    pools['layer_1'] = pooling_kernel_01\n",
    "    # input_depth = 6, output_depth = 16\n",
    "    # input_height = 14, output_height = 10\n",
    "    # input_width = 14, output_width = 10\n",
    "    # weight_h = (14 - 5 + 1)/ 1 if stride_height = 1\n",
    "    # weight_w = (14 - 5 + 1)/ 1 if stride_width = 1\n",
    "    W_conv_02 = tf.Variable(tf.random_normal([5, 5, 32, 64], mean = mu, stddev = sigma))\n",
    "    B_conv_02 = tf.Variable(tf.random_normal([64], mean = mu))\n",
    "    stride_conv_02 = (1, 1, 1, 1)\n",
    "    weights['layer_2'] = W_conv_02\n",
    "    biases['layer_2'] = B_conv_02\n",
    "    strides['layer_2'] = stride_conv_02\n",
    "    # input_height = 10, output_height = 5\n",
    "    # input_width = 10, output_width = 5\n",
    "    # input_depth = 64, output_depth = 64\n",
    "    pooling_kernel_02 = (1, 2, 2, 1)\n",
    "    stride_pooling_03 = (1, 2, 2, 1)\n",
    "    pools['layer_2'] = pooling_kernel_02\n",
    "    # flatten input = 5 * 5 * 64 = 1600\n",
    "    # flatten_output = 512\n",
    "    weigth_fully_connected_01 = tf.Variable(tf.random_normal([1600, 512], mean = mu, stddev = sigma))\n",
    "    bias_fully_connected_01 = tf.Variable(tf.random_normal([512], mean = mu))\n",
    "    weights['layer_3'] = weigth_fully_connected_01\n",
    "    biases['layer_3'] = bias_fully_connected_01\n",
    "    # flatten input = 512\n",
    "    # flatten_output = 128\n",
    "    weigth_fully_connected_02 = tf.Variable(tf.random_normal([512, 128], mean = mu, stddev = sigma))\n",
    "    bias_fully_connected_02 = tf.Variable(tf.random_normal([128], mean = mu))\n",
    "    weights['layer_4'] = weigth_fully_connected_02\n",
    "    biases['layer_4'] = bias_fully_connected_02\n",
    "    # out input = 128\n",
    "    # out output = 43\n",
    "    weigth_out = tf.Variable(tf.random_normal([128, n_classes], mean = mu, stddev = sigma))\n",
    "    bias_out = tf.Variable(tf.random_normal([n_classes], mean = mu))\n",
    "    weights['out'] = weigth_out\n",
    "    biases['out'] = bias_out\n",
    "    \n",
    "    return(weights, biases, strides, pools)"
   ]
  },
  {
   "cell_type": "code",
   "execution_count": 9,
   "metadata": {
    "collapsed": true,
    "deletable": true,
    "editable": true
   },
   "outputs": [],
   "source": [
    "def define_weights_biases(mu, sigma, hint = None):\n",
    "    if hint == \"advance\":\n",
    "        print (\"Using bigger network\")\n",
    "        return define_custom_weights_biases(mu, sigma)\n",
    "    \n",
    "    return define_lenet_weights_biases(mu, sigma)\n",
    "    "
   ]
  },
  {
   "cell_type": "code",
   "execution_count": 10,
   "metadata": {
    "collapsed": true,
    "deletable": true,
    "editable": true
   },
   "outputs": [],
   "source": [
    "def conv2d(x, W, b, strides=[1, 1, 1, 1]):\n",
    "    x = tf.nn.conv2d(x, W, strides=strides, padding='VALID')\n",
    "    x = tf.nn.bias_add(x, b)\n",
    "    return tf.nn.relu(x)"
   ]
  },
  {
   "cell_type": "code",
   "execution_count": 11,
   "metadata": {
    "collapsed": true,
    "deletable": true,
    "editable": true
   },
   "outputs": [],
   "source": [
    "def maxpool2d(x, k=[1, 1, 1, 1]):\n",
    "    return tf.nn.max_pool(\n",
    "        x,\n",
    "        ksize=k,\n",
    "        strides=k,\n",
    "        padding='VALID')"
   ]
  },
  {
   "cell_type": "code",
   "execution_count": 12,
   "metadata": {
    "collapsed": true,
    "deletable": true,
    "editable": true
   },
   "outputs": [],
   "source": [
    "def fully_connected(x, W, b):\n",
    "    return tf.add(tf.matmul(x, W), b)"
   ]
  },
  {
   "cell_type": "markdown",
   "metadata": {
    "deletable": true,
    "editable": true
   },
   "source": [
    "### Model Architecture"
   ]
  },
  {
   "cell_type": "code",
   "execution_count": 13,
   "metadata": {
    "collapsed": true,
    "deletable": true,
    "editable": true
   },
   "outputs": [],
   "source": [
    "### Define your architecture here.\n",
    "### Feel free to use as many code cells as needed.\n",
    "from tensorflow.contrib.layers import flatten\n",
    "\n",
    "def LeNet(x):    \n",
    "    # Arguments used for tf.truncated_normal, randomly defines variables for the weights and biases for each layer\n",
    "    mu = 0\n",
    "    sigma = 0.1\n",
    "    \n",
    "    weights, biases, strides, pools = define_weights_biases(mu, sigma, hint = \"advance\")\n",
    "    \n",
    "    # Layer 1: Convolutional. \n",
    "    layer_01 = conv2d(x, weights['layer_1'], biases['layer_1'], strides['layer_1'] )\n",
    "\n",
    "    # Pooling. \n",
    "    layer_01 = maxpool2d(layer_01, pools['layer_1'])\n",
    "    \n",
    "    layer_01 = tf.nn.dropout(layer_01, 0.9)\n",
    "    \n",
    "    # Layer 2: Convolutional. \n",
    "    layer_02 = conv2d(layer_01, weights['layer_2'], biases['layer_2'], strides['layer_2'])\n",
    "\n",
    "\n",
    "    # Pooling. \n",
    "    layer_02 = maxpool2d(layer_02, pools['layer_2'])\n",
    "    \n",
    "    layer_02 = tf.nn.dropout(layer_02, 0.8)\n",
    "    \n",
    "    # Flatten. \n",
    "    layer_03 = flatten(layer_02)\n",
    "    \n",
    "    # Layer 3: Fully Connected. \n",
    "    layer_03 = fully_connected(layer_03, weights['layer_3'], biases['layer_3'])\n",
    "    \n",
    "    #  Activation.\n",
    "    layer_03 = tf.nn.relu(layer_03)\n",
    "    layer_03 = tf.nn.dropout(layer_03, 0.7)\n",
    "    \n",
    "    # Layer 4: Fully Connected. \n",
    "    layer_04 = fully_connected(layer_03, weights['layer_4'], biases['layer_4'])\n",
    "    \n",
    "    # Activation.\n",
    "    layer_04 = tf.nn.relu(layer_04)\n",
    "\n",
    "    \n",
    "    # Layer 5: Fully Connected. \n",
    "    logits = fully_connected(layer_04, weights['out'], biases['out'])\n",
    "    \n",
    "    return logits"
   ]
  },
  {
   "cell_type": "code",
   "execution_count": 14,
   "metadata": {
    "collapsed": false,
    "deletable": true,
    "editable": true
   },
   "outputs": [
    {
     "name": "stdout",
     "output_type": "stream",
     "text": [
      "Using bigger network\n"
     ]
    }
   ],
   "source": [
    "rate = 0.0003\n",
    "\n",
    "logits = LeNet(x)\n",
    "cross_entropy = tf.nn.softmax_cross_entropy_with_logits(logits, one_hot_y)\n",
    "loss_operation = tf.reduce_mean(cross_entropy)\n",
    "optimizer = tf.train.AdamOptimizer(learning_rate = rate)\n",
    "training_operation = optimizer.minimize(loss_operation)"
   ]
  },
  {
   "cell_type": "code",
   "execution_count": 15,
   "metadata": {
    "collapsed": true,
    "deletable": true,
    "editable": true
   },
   "outputs": [],
   "source": [
    "correct_prediction = tf.equal(tf.argmax(logits, 1), tf.argmax(one_hot_y, 1))\n",
    "accuracy_operation = tf.reduce_mean(tf.cast(correct_prediction, tf.float32))\n",
    "saver = tf.train.Saver()\n",
    "\n",
    "def evaluate(X_data, y_data):\n",
    "    num_examples = len(X_data)\n",
    "    total_accuracy = 0\n",
    "    total_cost = 0\n",
    "    sess = tf.get_default_session()\n",
    "    for offset in range(0, num_examples, BATCH_SIZE):\n",
    "        batch_x, batch_y = X_data[offset:offset+BATCH_SIZE], y_data[offset:offset+BATCH_SIZE]\n",
    "        accuracy, cost = sess.run([accuracy_operation, loss_operation], feed_dict={x: batch_x, y: batch_y, keep_prob : 1.})\n",
    "        total_cost += (cost * len(batch_x))\n",
    "        total_accuracy += (accuracy * len(batch_x))\n",
    "    return (total_accuracy / num_examples, total_cost/ num_examples)"
   ]
  },
  {
   "cell_type": "markdown",
   "metadata": {
    "deletable": true,
    "editable": true
   },
   "source": [
    "### Train, Validate and Test the Model"
   ]
  },
  {
   "cell_type": "markdown",
   "metadata": {
    "deletable": true,
    "editable": true
   },
   "source": [
    "A validation set can be used to assess how well the model is performing. A low accuracy on the training and validation\n",
    "sets imply underfitting. A high accuracy on the training set but low accuracy on the validation set implies overfitting."
   ]
  },
  {
   "cell_type": "code",
   "execution_count": null,
   "metadata": {
    "collapsed": false,
    "deletable": true,
    "editable": true
   },
   "outputs": [
    {
     "name": "stdout",
     "output_type": "stream",
     "text": [
      "Training...\n",
      "\n",
      "EPOCH 1   Validation Accuracy = 0.072109   Validation Cost = 3.220969\n",
      "EPOCH 2   Validation Accuracy = 0.176644   Validation Cost = 3.243917\n",
      "EPOCH 3   Validation Accuracy = 0.246259   Validation Cost = 2.592531\n",
      "EPOCH 4   Validation Accuracy = 0.326757   Validation Cost = 2.213697\n",
      "EPOCH 5   Validation Accuracy = 0.395918   Validation Cost = 1.669121\n",
      "EPOCH 6   Validation Accuracy = 0.434694   Validation Cost = 1.377541\n",
      "EPOCH 7   Validation Accuracy = 0.488889   Validation Cost = 1.206830\n",
      "EPOCH 8   Validation Accuracy = 0.518594   Validation Cost = 1.143715\n",
      "EPOCH 9   Validation Accuracy = 0.560771   Validation Cost = 0.986573\n",
      "EPOCH 10   Validation Accuracy = 0.595238   Validation Cost = 0.837087\n",
      "EPOCH 11   Validation Accuracy = 0.627438   Validation Cost = 0.839043\n",
      "EPOCH 12   Validation Accuracy = 0.657370   Validation Cost = 0.822764\n",
      "EPOCH 13   Validation Accuracy = 0.667120   Validation Cost = 0.864622\n",
      "EPOCH 14   Validation Accuracy = 0.698413   Validation Cost = 0.893853\n",
      "EPOCH 15   Validation Accuracy = 0.710658   Validation Cost = 0.523042\n",
      "EPOCH 16   Validation Accuracy = 0.713605   Validation Cost = 0.810115\n",
      "EPOCH 17   Validation Accuracy = 0.724943   Validation Cost = 0.747219\n",
      "EPOCH 18   Validation Accuracy = 0.732426   Validation Cost = 0.681503\n",
      "EPOCH 19   Validation Accuracy = 0.741950   Validation Cost = 0.841389\n",
      "EPOCH 20   Validation Accuracy = 0.757823   Validation Cost = 0.881352\n",
      "EPOCH 21   Validation Accuracy = 0.744218   Validation Cost = 0.719448\n",
      "EPOCH 22   Validation Accuracy = 0.756689   Validation Cost = 0.724901\n",
      "EPOCH 23   Validation Accuracy = 0.768934   Validation Cost = 0.534707\n",
      "EPOCH 24   Validation Accuracy = 0.781633   Validation Cost = 0.532343\n",
      "EPOCH 25   Validation Accuracy = 0.770522   Validation Cost = 0.758765\n",
      "EPOCH 26   Validation Accuracy = 0.784580   Validation Cost = 0.494685\n",
      "EPOCH 27   Validation Accuracy = 0.784580   Validation Cost = 0.477450\n",
      "EPOCH 28   Validation Accuracy = 0.783447   Validation Cost = 0.692788\n",
      "EPOCH 29   Validation Accuracy = 0.794785   Validation Cost = 0.747755\n",
      "EPOCH 30   Validation Accuracy = 0.785714   Validation Cost = 0.662685\n",
      "EPOCH 31   Validation Accuracy = 0.790930   Validation Cost = 0.573474\n",
      "EPOCH 32   Validation Accuracy = 0.793878   Validation Cost = 0.547972\n",
      "EPOCH 33   Validation Accuracy = 0.794558   Validation Cost = 0.417698\n",
      "EPOCH 34   Validation Accuracy = 0.808163   Validation Cost = 0.542221\n",
      "EPOCH 35   Validation Accuracy = 0.801361   Validation Cost = 0.482978\n",
      "EPOCH 36   Validation Accuracy = 0.801814   Validation Cost = 0.325202\n",
      "EPOCH 37   Validation Accuracy = 0.804989   Validation Cost = 0.653709\n"
     ]
    }
   ],
   "source": [
    "### Train your model here.\n",
    "### Calculate and report the accuracy on the training and validation set.\n",
    "### Once a final model architecture is selected, \n",
    "### the accuracy on the test set should be calculated and reported as well.\n",
    "### Feel free to use as many code cells as needed.\n",
    "\n",
    "batches = 0\n",
    "train_accuracy = []\n",
    "valid_accuracy = []\n",
    "valid_cost = []\n",
    "\n",
    "with tf.Session() as sess:\n",
    "    sess.run(tf.global_variables_initializer())\n",
    "    num_examples = len(X_train)\n",
    "    \n",
    "    print(\"Training...\")\n",
    "    print()\n",
    "    for i in range(EPOCHS):\n",
    "        X_train, y_train = shuffle(X_train, y_train)\n",
    "        for offset in range(0, num_examples, BATCH_SIZE):\n",
    "            end = offset + BATCH_SIZE \n",
    "            batch_x, batch_y = X_train[offset:end], y_train[offset:end]\n",
    "            sess.run(training_operation, feed_dict={x: batch_x, y: batch_y, keep_prob: dropout})\n",
    "            training_accuracy = sess.run(accuracy_operation, feed_dict={x: batch_x, y: batch_y, keep_prob : dropout})\n",
    "            train_accuracy.append(training_accuracy)\n",
    "            batches += 1\n",
    "     \n",
    "        validation_accuracy, validation_cost = evaluate(X_valid, y_valid)\n",
    "        valid_accuracy.append(validation_accuracy)\n",
    "        valid_cost.append(validation_cost)\n",
    "        print(\"EPOCH {} \".format(i+1), \" Validation Accuracy = {:.6f} \".format(validation_accuracy), \\\n",
    "             \" Validation Cost = {:.6f}\".format(validation_cost))\n",
    "        \n",
    "    saver.save(sess, './traffic_model_1')\n",
    "    print(\"Model saved\")\n",
    "    train_plot = plt.subplot(311)\n",
    "    train_plot.set_title('Training Accuracy over batches')\n",
    "    train_plot.plot(train_accuracy, 'g', label=\"Accuracy\")\n",
    "    train_plot.set_xlim(0, batches)\n",
    "    valid_plot = plt.subplot(312)\n",
    "    valid_plot.set_title('Validation Accuracy over epochs')\n",
    "    valid_plot.plot(valid_accuracy, 'r', label='Accuracy')\n",
    "    valid_plot.set_xlim(0, EPOCHS)\n",
    "    cost_plot = plt.subplot(313)\n",
    "    cost_plot.set_title('Validation Cost over epochs')\n",
    "    cost_plot.plot(valid_cost, 'b', label='Cost')\n",
    "    cost_plot.set_xlim(0, EPOCHS)\n",
    "    plt.tight_layout()\n",
    "    plt.show()"
   ]
  },
  {
   "cell_type": "code",
   "execution_count": null,
   "metadata": {
    "collapsed": false,
    "deletable": true,
    "editable": true
   },
   "outputs": [],
   "source": [
    "with tf.Session() as sess:\n",
    "    saver.restore(sess, \"./traffic_model\")\n",
    "\n",
    "    test_accuracy, test_cost = evaluate(X_test, y_test)\n",
    "    print(\"Test Accuracy = {:.3f}\".format(test_accuracy), \" Test Cost = {.:3f}\".format(test_cost))"
   ]
  },
  {
   "cell_type": "markdown",
   "metadata": {
    "deletable": true,
    "editable": true
   },
   "source": [
    "---\n",
    "\n",
    "## Step 3: Test a Model on New Images\n",
    "\n",
    "To give yourself more insight into how your model is working, download at least five pictures of German traffic signs from the web and use your model to predict the traffic sign type.\n",
    "\n",
    "You may find `signnames.csv` useful as it contains mappings from the class id (integer) to the actual sign name."
   ]
  },
  {
   "cell_type": "markdown",
   "metadata": {
    "deletable": true,
    "editable": true
   },
   "source": [
    "### Load and Output the Images"
   ]
  },
  {
   "cell_type": "code",
   "execution_count": null,
   "metadata": {
    "collapsed": false,
    "deletable": true,
    "editable": true
   },
   "outputs": [],
   "source": [
    "### Load the images and plot them here.\n",
    "### Feel free to use as many code cells as needed.\n",
    "import matplotlib.pyplot as plt\n",
    "import matplotlib.image as mpimg\n",
    "import cv2\n",
    "import os\n",
    "\n",
    "def get_features_and_labels():\n",
    "    new_features = []\n",
    "    new_labels = []\n",
    "    for sign_label in os.listdir(\"./data\"):\n",
    "        if sign_label.startswith(\".\"):\n",
    "            continue\n",
    "        img = mpimg.imread(os.path.join(\"./data\", sign_label))\n",
    "        sign_img = cv2.resize(img, (32, 32), interpolation=cv2.INTER_AREA)\n",
    "        sign_img = cv2.cvtColor(sign_img, cv2.COLOR_RGB2YUV)\n",
    "        sign_img = normalize(sign_img)\n",
    "        new_features.append(sign_img)\n",
    "        new_labels.append(int(\"%s\" % sign_label.split(\".\")[0]))\n",
    "\n",
    "    return (np.array(new_features), np.array(new_labels))"
   ]
  },
  {
   "cell_type": "markdown",
   "metadata": {
    "deletable": true,
    "editable": true
   },
   "source": [
    "### Predict the Sign Type for Each Image"
   ]
  },
  {
   "cell_type": "code",
   "execution_count": null,
   "metadata": {
    "collapsed": false,
    "deletable": true,
    "editable": true
   },
   "outputs": [],
   "source": [
    "### Run the predictions here and use the model to output the prediction for each image.\n",
    "### Make sure to pre-process the images with the same pre-processing pipeline used earlier.\n",
    "### Feel free to use as many code cells as needed.\n",
    "X_new, y_new = get_features_and_labels()\n",
    "\n",
    "with tf.Session() as sess:\n",
    "    saver.restore(sess, \"./traffic_model\")\n",
    "    prediction = sess.run(tf.argmax(logits, 1), feed_dict={x: X_new, keep_prob: 1.})\n",
    "\n",
    "    for (i, v) in enumerate(prediction):\n",
    "        annotation = \"Actual:    %s\\nPredicted: %s\" % (\n",
    "            sign_names[y_new[i]], sign_names[v])\n",
    "        fig = plt.figure(figsize=(1,1))\n",
    "        plt.imshow(X_new[i])\n",
    "        plt.annotate(annotation, xy=(0,0), xytext=(60,25), fontsize=12, family='monospace')\n",
    "        plt.show()"
   ]
  },
  {
   "cell_type": "markdown",
   "metadata": {
    "deletable": true,
    "editable": true
   },
   "source": [
    "### Analyze Performance"
   ]
  },
  {
   "cell_type": "code",
   "execution_count": null,
   "metadata": {
    "collapsed": false,
    "deletable": true,
    "editable": true
   },
   "outputs": [],
   "source": [
    "### Calculate the accuracy for these 5 new images. \n",
    "### For example, if the model predicted 1 out of 5 signs correctly, it's 20% accurate on these new images.\n",
    "accuracy = sum(y_new == prediction)/len(y_new)\n",
    "print(\"Accuracy = {:.3f}\".format(100 * accuracy))"
   ]
  },
  {
   "cell_type": "markdown",
   "metadata": {
    "deletable": true,
    "editable": true
   },
   "source": [
    "### Output Top 5 Softmax Probabilities For Each Image Found on the Web"
   ]
  },
  {
   "cell_type": "markdown",
   "metadata": {
    "deletable": true,
    "editable": true
   },
   "source": [
    "For each of the new images, print out the model's softmax probabilities to show the **certainty** of the model's predictions (limit the output to the top 5 probabilities for each image). [`tf.nn.top_k`](https://www.tensorflow.org/versions/r0.12/api_docs/python/nn.html#top_k) could prove helpful here. \n",
    "\n",
    "The example below demonstrates how tf.nn.top_k can be used to find the top k predictions for each image.\n",
    "\n",
    "`tf.nn.top_k` will return the values and indices (class ids) of the top k predictions. So if k=3, for each sign, it'll return the 3 largest probabilities (out of a possible 43) and the correspoding class ids.\n",
    "\n",
    "Take this numpy array as an example. The values in the array represent predictions. The array contains softmax probabilities for five candidate images with six possible classes. `tk.nn.top_k` is used to choose the three classes with the highest probability:\n",
    "\n",
    "```\n",
    "# (5, 6) array\n",
    "a = np.array([[ 0.24879643,  0.07032244,  0.12641572,  0.34763842,  0.07893497,\n",
    "         0.12789202],\n",
    "       [ 0.28086119,  0.27569815,  0.08594638,  0.0178669 ,  0.18063401,\n",
    "         0.15899337],\n",
    "       [ 0.26076848,  0.23664738,  0.08020603,  0.07001922,  0.1134371 ,\n",
    "         0.23892179],\n",
    "       [ 0.11943333,  0.29198961,  0.02605103,  0.26234032,  0.1351348 ,\n",
    "         0.16505091],\n",
    "       [ 0.09561176,  0.34396535,  0.0643941 ,  0.16240774,  0.24206137,\n",
    "         0.09155967]])\n",
    "```\n",
    "\n",
    "Running it through `sess.run(tf.nn.top_k(tf.constant(a), k=3))` produces:\n",
    "\n",
    "```\n",
    "TopKV2(values=array([[ 0.34763842,  0.24879643,  0.12789202],\n",
    "       [ 0.28086119,  0.27569815,  0.18063401],\n",
    "       [ 0.26076848,  0.23892179,  0.23664738],\n",
    "       [ 0.29198961,  0.26234032,  0.16505091],\n",
    "       [ 0.34396535,  0.24206137,  0.16240774]]), indices=array([[3, 0, 5],\n",
    "       [0, 1, 4],\n",
    "       [0, 5, 1],\n",
    "       [1, 3, 5],\n",
    "       [1, 4, 3]], dtype=int32))\n",
    "```\n",
    "\n",
    "Looking just at the first row we get `[ 0.34763842,  0.24879643,  0.12789202]`, you can confirm these are the 3 largest probabilities in `a`. You'll also notice `[3, 0, 5]` are the corresponding indices."
   ]
  },
  {
   "cell_type": "code",
   "execution_count": null,
   "metadata": {
    "collapsed": false,
    "deletable": true,
    "editable": true
   },
   "outputs": [],
   "source": [
    "### Print out the top five softmax probabilities for the predictions on the German traffic sign images found on the web. \n",
    "### Feel free to use as many code cells as needed.\n",
    "\n",
    "k = 5\n",
    "top_k = tf.nn.top_k(tf.nn.softmax(logits), k=k)\n",
    "\n",
    "with tf.Session() as sess:\n",
    "    saver.restore(sess, \"./traffic_model\")\n",
    "    top = sess.run(top_k, feed_dict={x: X_new, keep_prob:1.})\n",
    "\n",
    "    for i in range(len(y_new)):\n",
    "        print(\"\\n       == Actual ==       -\", sign_names[y_new[i]])\n",
    "        for j in range(k):\n",
    "            print(\"  %22.20f%% - %s\" % (top[0][i][j], sign_names[top[1][i][j]]))"
   ]
  },
  {
   "cell_type": "markdown",
   "metadata": {
    "deletable": true,
    "editable": true
   },
   "source": [
    "---\n",
    "\n",
    "## Step 4: Visualize the Neural Network's State with Test Images\n",
    "\n",
    " This Section is not required to complete but acts as an additional excersise for understaning the output of a neural network's weights. While neural networks can be a great learning device they are often referred to as a black box. We can understand what the weights of a neural network look like better by plotting their feature maps. After successfully training your neural network you can see what it's feature maps look like by plotting the output of the network's weight layers in response to a test stimuli image. From these plotted feature maps, it's possible to see what characteristics of an image the network finds interesting. For a sign, maybe the inner network feature maps react with high activation to the sign's boundary outline or to the contrast in the sign's painted symbol.\n",
    "\n",
    " Provided for you below is the function code that allows you to get the visualization output of any tensorflow weight layer you want. The inputs to the function should be a stimuli image, one used during training or a new one you provided, and then the tensorflow variable name that represents the layer's state during the training process, for instance if you wanted to see what the [LeNet lab's](https://classroom.udacity.com/nanodegrees/nd013/parts/fbf77062-5703-404e-b60c-95b78b2f3f9e/modules/6df7ae49-c61c-4bb2-a23e-6527e69209ec/lessons/601ae704-1035-4287-8b11-e2c2716217ad/concepts/d4aca031-508f-4e0b-b493-e7b706120f81) feature maps looked like for it's second convolutional layer you could enter conv2 as the tf_activation variable.\n",
    "\n",
    "For an example of what feature map outputs look like, check out NVIDIA's results in their paper [End-to-End Deep Learning for Self-Driving Cars](https://devblogs.nvidia.com/parallelforall/deep-learning-self-driving-cars/) in the section Visualization of internal CNN State. NVIDIA was able to show that their network's inner weights had high activations to road boundary lines by comparing feature maps from an image with a clear path to one without. Try experimenting with a similar test to show that your trained network's weights are looking for interesting features, whether it's looking at differences in feature maps from images with or without a sign, or even what feature maps look like in a trained network vs a completely untrained one on the same sign image.\n",
    "\n",
    "<figure>\n",
    " <img src=\"visualize_cnn.png\" width=\"380\" alt=\"Combined Image\" />\n",
    " <figcaption>\n",
    " <p></p> \n",
    " <p style=\"text-align: center;\"> Your output should look something like this (above)</p> \n",
    " </figcaption>\n",
    "</figure>\n",
    " <p></p> \n"
   ]
  },
  {
   "cell_type": "code",
   "execution_count": null,
   "metadata": {
    "collapsed": true,
    "deletable": true,
    "editable": true
   },
   "outputs": [],
   "source": [
    "### Visualize your network's feature maps here.\n",
    "### Feel free to use as many code cells as needed.\n",
    "\n",
    "# image_input: the test image being fed into the network to produce the feature maps\n",
    "# tf_activation: should be a tf variable name used during your training procedure that represents the calculated state of a specific weight layer\n",
    "# activation_min/max: can be used to view the activation contrast in more detail, by default matplot sets min and max to the actual min and max values of the output\n",
    "# plt_num: used to plot out multiple different weight feature map sets on the same block, just extend the plt number for each new feature map entry\n",
    "\n",
    "def outputFeatureMap(image_input, tf_activation, activation_min=-1, activation_max=-1 ,plt_num=1):\n",
    "    # Here make sure to preprocess your image_input in a way your network expects\n",
    "    # with size, normalization, ect if needed\n",
    "    # image_input =\n",
    "    # Note: x should be the same name as your network's tensorflow data placeholder variable\n",
    "    # If you get an error tf_activation is not defined it maybe having trouble accessing the variable from inside a function\n",
    "    activation = tf_activation.eval(session=sess,feed_dict={x : image_input})\n",
    "    featuremaps = activation.shape[3]\n",
    "    plt.figure(plt_num, figsize=(15,15))\n",
    "    for featuremap in range(featuremaps):\n",
    "        plt.subplot(6,8, featuremap+1) # sets the number of feature maps to show on each row and column\n",
    "        plt.title('FeatureMap ' + str(featuremap)) # displays the feature map number\n",
    "        if activation_min != -1 & activation_max != -1:\n",
    "            plt.imshow(activation[0,:,:, featuremap], interpolation=\"nearest\", vmin =activation_min, vmax=activation_max, cmap=\"gray\")\n",
    "        elif activation_max != -1:\n",
    "            plt.imshow(activation[0,:,:, featuremap], interpolation=\"nearest\", vmax=activation_max, cmap=\"gray\")\n",
    "        elif activation_min !=-1:\n",
    "            plt.imshow(activation[0,:,:, featuremap], interpolation=\"nearest\", vmin=activation_min, cmap=\"gray\")\n",
    "        else:\n",
    "            plt.imshow(activation[0,:,:, featuremap], interpolation=\"nearest\", cmap=\"gray\")"
   ]
  },
  {
   "cell_type": "markdown",
   "metadata": {
    "deletable": true,
    "editable": true
   },
   "source": [
    "### Question 9\n",
    "\n",
    "Discuss how you used the visual output of your trained network's feature maps to show that it had learned to look for interesting characteristics in traffic sign images\n"
   ]
  },
  {
   "cell_type": "markdown",
   "metadata": {
    "deletable": true,
    "editable": true
   },
   "source": [
    "**Answer:**"
   ]
  },
  {
   "cell_type": "markdown",
   "metadata": {
    "deletable": true,
    "editable": true
   },
   "source": [
    "> **Note**: Once you have completed all of the code implementations and successfully answered each question above, you may finalize your work by exporting the iPython Notebook as an HTML document. You can do this by using the menu above and navigating to  \\n\",\n",
    "    \"**File -> Download as -> HTML (.html)**. Include the finished document along with this notebook as your submission."
   ]
  },
  {
   "cell_type": "markdown",
   "metadata": {
    "deletable": true,
    "editable": true
   },
   "source": [
    "### Project Writeup\n",
    "\n",
    "Once you have completed the code implementation, document your results in a project writeup using this [template](https://github.com/udacity/CarND-Traffic-Sign-Classifier-Project/blob/master/writeup_template.md) as a guide. The writeup can be in a markdown or pdf file. "
   ]
  }
 ],
 "metadata": {
  "anaconda-cloud": {},
  "kernelspec": {
   "display_name": "Python 3",
   "language": "python",
   "name": "python3"
  },
  "language_info": {
   "codemirror_mode": {
    "name": "ipython",
    "version": 3
   },
   "file_extension": ".py",
   "mimetype": "text/x-python",
   "name": "python",
   "nbconvert_exporter": "python",
   "pygments_lexer": "ipython3",
   "version": "3.5.2"
  },
  "widgets": {
   "state": {},
   "version": "1.1.2"
  }
 },
 "nbformat": 4,
 "nbformat_minor": 1
}
